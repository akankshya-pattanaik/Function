{
  "nbformat": 4,
  "nbformat_minor": 0,
  "metadata": {
    "colab": {
      "provenance": []
    },
    "kernelspec": {
      "name": "python3",
      "display_name": "Python 3"
    },
    "language_info": {
      "name": "python"
    }
  },
  "cells": [
    {
      "cell_type": "markdown",
      "source": [
        "Q1. What is the difference between a function and a method in Python?\n",
        "\n",
        "Ans:\n",
        "Difference between Function and Method in Python\n",
        "\n",
        "A function in Python is a block of reusable code that performs a specific task and can be called independently. It is not inherently tied to any object or class unless explicitly used within one.\n",
        "\n",
        "A method is similar to a function but is defined inside a class and is associated with the objects (instances) of that class. Methods often operate on the instance’s data and take self as the first parameter (for instance methods) to refer to the current object.\n",
        "\n",
        "Key difference:\n",
        "\n",
        "Function:\n",
        "- Independent, called directly.\n",
        "- A function is just a standalone block of code you can call.\n",
        "\n",
        "Method:\n",
        "- Bound to a class or object, called through that object.\n",
        "- A method is a function that is associated with an object and typically operates on the data within that object.\n",
        "\n",
        "Example:\n",
        "\n",
        "# Function\n",
        "\n",
        "def greet(name):\n",
        "\n",
        "    return f\"Hello {name}\"\n",
        "\n",
        "print(greet(\"Akankshya\"))  # Calling function\n",
        "\n",
        "# Method\n",
        "class Person:\n",
        "\n",
        "    def greet(self):\n",
        "        return f\"Hello {self.name}\"\n",
        "\n",
        "p = Person()\n",
        "\n",
        "p.name = \"Akankshya\"\n",
        "\n",
        "print(p.greet())  # Calling method\n",
        "\n",
        "\n",
        "Output:\n",
        "\n",
        "Hello Akankshya\n",
        "\n",
        "Hello Akankshya"
      ],
      "metadata": {
        "id": "0yFoeIYk6Ut1"
      }
    },
    {
      "cell_type": "markdown",
      "source": [
        "Q2. Explain the concept of function arguments and parameters in Python?\n",
        "\n",
        "Ans:\n",
        "#Function Arguments and Parameters in Python\n",
        "\n",
        "In Python, parameters and arguments are related but not the same:\n",
        "- Parameters are the variables listed inside the parentheses of a function definition. They act as placeholders for the values the function will receive.\n",
        "- Arguments are the actual values or data you pass to the function when calling it.\n",
        "\n",
        "When you call a function, Python assigns the arguments you pass to the function’s parameters in the order they are defined (unless you use keyword arguments).\n",
        "\n",
        "Example:\n",
        "\n",
        "def introduce(name, age): #Parameters: name, age\n",
        "\n",
        "    print(f\"My name is {name} and I am {age} years old.\")\n",
        "\n",
        "\n",
        "introduce(\"Akankshya\", 23) # Arguments: \"Akankshya\", 23\n",
        "\n",
        "\n",
        "Output:\n",
        "\n",
        "My name is Akankshya and I am 23 years old.\n",
        "\n",
        "\n",
        "#Types of Function Arguments in Python:\n",
        "- Positional arguments – Passed in the same order as parameters.\n",
        "- Keyword arguments – Passed by explicitly naming parameters.\n",
        "- Default arguments – Parameters with default values.\n",
        "- Variable-length arguments – Using *args (tuple) or **kwargs (dictionary) to pass multiple values."
      ],
      "metadata": {
        "id": "3uWySXeijPLj"
      }
    },
    {
      "cell_type": "markdown",
      "source": [
        "Q3. What are the different ways to define and call a function in Python?\n",
        "\n",
        "Ans:\n",
        "Different Ways to Define and Call a Function in Python\n",
        "\n",
        "In Python, functions can be defined and called in several ways depending on how parameters and arguments are handled.\n",
        "\n",
        "1. Simple Function (No Parameters)\n",
        "\n",
        "- Definition: Function without parameters.\n",
        "- Call: Directly by its name.\n",
        "\n",
        "def greet():\n",
        "\n",
        "    print(\"Hello, welcome to Python!\")\n",
        "\n",
        "greet()   # Function call\n",
        "\n",
        "2. Function with Parameters\n",
        "\n",
        "- Definition: Function takes input values (parameters).\n",
        "- Call: Pass required arguments.\n",
        "\n",
        "def greet(name):\n",
        "\n",
        "    print(f\"Hello, {name}!\")\n",
        "\n",
        "greet(\"Akankshya\")   # Passing argument\n",
        "\n",
        "3. Function with Return Value\n",
        "\n",
        "- Definition: Function returns a value using return.\n",
        "- Call: Assign the result to a variable or use it directly.\n",
        "\n",
        "def add(a, b):\n",
        "\n",
        "    return a + b\n",
        "\n",
        "result = add(5, 3)   # Function call\n",
        "\n",
        "print(result)        # Output: 8\n",
        "\n",
        "4. Function with Default Arguments\n",
        "\n",
        "- Definition: Parameters have default values.\n",
        "- Call: Can be called with or without arguments.\n",
        "\n",
        "def greet(name=\"Guest\"):\n",
        "\n",
        "    print(f\"Hello, {name}!\")\n",
        "\n",
        "greet()             # Uses default: Guest\n",
        "\n",
        "greet(\"Akankshya\")  # Uses given argument\n",
        "\n",
        "5. Function with Keyword Arguments\n",
        "\n",
        "- Definition: Arguments passed using parameter names.\n",
        "- Call: Order does not matter.\n",
        "\n",
        "def introduce(name, age):\n",
        "\n",
        "    print(f\"My name is {name} and I am {age} years old.\")\n",
        "\n",
        "introduce(age=23, name=\"Akankshya\")\n",
        "\n",
        "6. Function with Variable-Length Arguments\n",
        "\n",
        "- Using *args (non-keyword arguments): Accepts multiple values.\n",
        "\n",
        "def total(*numbers):\n",
        "\n",
        "    print(sum(numbers))\n",
        "\n",
        "total(10, 20, 30, 40)\n",
        "- Using **kwargs (keyword arguments): Accepts key–value pairs.\n",
        "\n",
        "def details(**info):\n",
        "\n",
        "    for key, value in info.items():\n",
        "\n",
        "        print(f\"{key}: {value}\")\n",
        "\n",
        "details(name=\"Akankshya\", age=23, country=\"India\")\n",
        "\n",
        "7. Lambda Function (Anonymous Function)\n",
        "\n",
        "- Definition: Single-line function without a name.\n",
        "- Call: Assigned to a variable or used directly.\n",
        "\n",
        "square = lambda x: x * x\n",
        "print(square(5))   # Output: 25\n"
      ],
      "metadata": {
        "id": "TODaiwC94KyT"
      }
    },
    {
      "cell_type": "markdown",
      "source": [
        "Q4. What is the purpose of the `return` statement in a Python function?\n",
        "\n",
        "Ans:\n",
        "#Purpose of the return Statement in a Python Function\n",
        "\n",
        "The return statement in Python is used to send the result of a function back to the caller.\n",
        "It allows a function to produce an output that can be stored in a variable, used in an expression, or passed to another function.\n",
        "\n",
        "Key Points:\n",
        "\n",
        "1. Without return, a function automatically returns None.\n",
        "\n",
        "2. A function can return:\n",
        "\n",
        "- A single value\n",
        "\n",
        "- Multiple values (as a tuple)\n",
        "\n",
        "- Expressions or objects\n",
        "\n",
        "3. Once return is executed, the function ends immediately.\n",
        "\n",
        "Examples:\n",
        "\n",
        "1. Returning a Single Value\n",
        "\n",
        "def add(a, b):\n",
        "\n",
        "    return a + b\n",
        "\n",
        "result = add(5, 3)\n",
        "\n",
        "print(result)   # Output: 8\n",
        "\n",
        "\n",
        "2. Returning Multiple Values\n",
        "\n",
        "def calculate(a, b):\n",
        "\n",
        "    return a + b, a - b\n",
        "\n",
        "sum_val, diff_val = calculate(10, 5)\n",
        "\n",
        "print(sum_val, diff_val)   # Output: 15 5\n",
        "\n",
        "\n",
        "3. Function Without Return\n",
        "\n",
        "def greet(name):\n",
        "\n",
        "    print(f\"Hello, {name}!\")\n",
        "\n",
        "output = greet(\"Akankshya\")\n",
        "\n",
        "print(output)   # Output: None (because no return)"
      ],
      "metadata": {
        "id": "wUel3bgxI394"
      }
    },
    {
      "cell_type": "markdown",
      "source": [
        "Q5. What are iterators in Python and how do they differ from iterables?\n",
        "\n",
        "Ans:\n",
        "#Iterators vs Iterables in Python\n",
        "1. Iterable\n",
        "- An iterable is any Python object capable of returning its elements one at a time.\n",
        "- Examples: lists, tuples, strings, dictionaries, sets, etc.\n",
        "- These objects have an __iter__() method that returns an iterator.\n",
        "\n",
        "Example of an Iterable:\n",
        "\n",
        "my_list = [1, 2, 3]\n",
        "\n",
        "for item in my_list:   # list is iterable\n",
        "\n",
        "    print(item)\n",
        "\n",
        "2. Iterator\n",
        "- An iterator is an object that represents a stream of data and produces elements one at a time when we call next().\n",
        "- It remembers its position (state) during iteration.\n",
        "- In Python, an iterator must implement two methods:\n",
        "\n",
        "__iter__() → returns the iterator object\n",
        "itself.\n",
        "\n",
        "__next__() → returns the next value, and raises StopIteration when no items are left.\n",
        "\n",
        "Example of an Iterator:\n",
        "\n",
        "my_list = [1, 2, 3]\n",
        "\n",
        "iterator = iter(my_list)   # get\n",
        "iterator from iterable\n",
        "\n",
        "print(next(iterator))  # Output: 1\n",
        "\n",
        "print(next(iterator))  # Output: 2\n",
        "\n",
        "print(next(iterator))  # Output: 3\n"
      ],
      "metadata": {
        "id": "L_OUY68gSPAE"
      }
    },
    {
      "cell_type": "markdown",
      "source": [
        "Q6. Explain the concept of generators in Python and how they are defined.\n",
        "\n",
        "Ans:\n",
        "#Generators in Python\n",
        "\n",
        "A generator in Python is a special type of iterator that allows you to produce a sequence of values lazily (one at a time) instead of storing them all in memory at once.\n",
        "\n",
        "Generators are useful when working with large datasets or infinite sequences, as they generate values on demand.\n",
        "\n",
        "#How Generators are Defined\n",
        "\n",
        "There are two main ways to define generators in Python:\n",
        "\n",
        "1. Generator Functions\n",
        "\n",
        "- Defined like normal functions but use the yield keyword instead of return.\n",
        "\n",
        "- Each call to yield pauses the function, saving its state, and resumes from there when next() is called.\n",
        "\n",
        "Example:\n",
        "\n",
        "def count_up_to(n):\n",
        "\n",
        "    i = 1\n",
        "    while i <= n:\n",
        "        yield i   # returns a value but keeps function state\n",
        "        i += 1\n",
        "\n",
        "for num in count_up_to(5): #Using generator\n",
        "\n",
        "    print(num)\n",
        "\n",
        "2. Generator Expressions\n",
        "\n",
        "- Similar to list comprehensions but with parentheses () instead of square brackets [].\n",
        "\n",
        "- They are memory-efficient because they generate items on demand.\n",
        "\n",
        "Example:\n",
        "\n",
        "squares = (x*x for x in range(5))\n",
        "\n",
        "for sq in squares:\n",
        "\n",
        "    print(sq)\n",
        "\n",
        "#Key Features of Generators\n",
        "\n",
        "- Lazy Evaluation – Generate values one at a time instead of all at once.\n",
        "\n",
        "- Memory Efficient – Useful for large or infinite sequences.\n",
        "\n",
        "- Iterator – Generators automatically implement __iter__() and __next__().\n",
        "\n",
        "- Single Iteration – Generators can be iterated only once."
      ],
      "metadata": {
        "id": "7sqdbQVCTIMc"
      }
    },
    {
      "cell_type": "markdown",
      "source": [
        "Q7. What are the advantages of using generators over regular functions?\n",
        "\n",
        "Ans:\n",
        "#Advantages of Using Generators over Regular Functions\n",
        "\n",
        "Generators provide several benefits compared to regular functions that return lists or other collections:\n",
        "\n",
        "1. Memory Efficiency\n",
        "\n",
        "- Regular function returning a list creates the entire list in memory.\n",
        "- Generator produces one item at a time using yield, so it doesn’t need to store all values in memory.\n",
        "- Useful for large datasets or infinite sequences.\n",
        "\n",
        "2. Lazy Evaluation (On-Demand Computation)\n",
        "- Generators compute values only when needed (lazy).\n",
        "- Regular functions compute all values immediately, even if you don’t use them all.\n",
        "\n",
        "3. Infinite Sequences\n",
        "- With generators, you can model infinite streams of data (like sensor readings, log entries, Fibonacci numbers).\n",
        "- Regular functions cannot return infinite sequences because they must build the whole result at once.\n",
        "\n",
        "4. Improved Performance\n",
        "- Since values are produced on demand, generators are often faster for large iterations where not all results are required.\n",
        "\n",
        "5. Cleaner Code\n",
        "- Generators simplify complex iterators because yield automatically saves the function state.\n",
        "- Without generators, you would need to write a class with __iter__() and __next__() methods.\n",
        "\n",
        "Example Comparison\n",
        "\n",
        "Regular Function (returns list):\n",
        "\n",
        "def squares_list(n):\n",
        "\n",
        "    result = []\n",
        "\n",
        "    for i in range(n):\n",
        "\n",
        "        result.append(i*i)\n",
        "\n",
        "    return result\n",
        "\n",
        "print(squares_list(5))  # Builds entire list in memory\n",
        "\n",
        "\n",
        "Generator Function (yields values one by one):\n",
        "\n",
        "def squares_generator(n):\n",
        "\n",
        "    for i in range(n):\n",
        "\n",
        "        yield i*i\n",
        "\n",
        "for val in squares_generator(5):  # Generates values on demand\n",
        "\n",
        "    print(val)"
      ],
      "metadata": {
        "id": "fqOsoUsXU1oG"
      }
    },
    {
      "cell_type": "markdown",
      "source": [
        "Q8. What is a lambda function in Python and when is it typically used?\n",
        "\n",
        "Ans:\n",
        "#Lambda Function in Python\n",
        "\n",
        "A lambda function in Python is a small, anonymous (unnamed) function defined using the keyword lambda.\n",
        "\n",
        "It can take any number of arguments but can only have one expression, which is evaluated and returned.\n",
        "\n",
        "Syntax: lambda arguments: expression\n",
        "\n",
        "Example:\n",
        "\n",
        "def square(x): # Normal function\n",
        "\n",
        "    return x * x\n",
        "\n",
        "square_lambda = lambda x: x * x # Equivalent lambda function\n",
        "\n",
        "print(square_lambda(5))   # Output: 25\n",
        "\n",
        "#When is a Lambda Function Typically Used?\n",
        "\n",
        "Lambda functions are generally used when we need a short, throwaway function for a limited time, especially inside higher-order functions.\n",
        "\n",
        "Common Use Cases:\n",
        "\n",
        "- In map() – Apply a function to each item\n",
        "\n",
        "nums = [1, 2, 3, 4]\n",
        "\n",
        "squares = list(map(lambda x: x*x, nums))\n",
        "\n",
        "print(squares)   # [1, 4, 9, 16]\n",
        "\n",
        "\n",
        "- In filter() – Filter items based on a condition\n",
        "\n",
        "nums = [1, 2, 3, 4, 5, 6]\n",
        "\n",
        "even = list(filter(lambda x: x % 2 == 0, nums))\n",
        "\n",
        "print(even)   # [2, 4, 6]\n",
        "\n",
        "\n",
        "- In sorted() – Custom sorting\n",
        "\n",
        "words = [\"apple\", \"banana\", \"cherry\"]\n",
        "\n",
        "words_sorted = sorted(words, key=lambda x: len(x))\n",
        "\n",
        "print(words_sorted)   # ['apple', 'cherry', 'banana']\n",
        "\n",
        "\n",
        "- As quick inline functions (instead of defining with def)"
      ],
      "metadata": {
        "id": "V36g9TlZWT0j"
      }
    },
    {
      "cell_type": "markdown",
      "source": [
        "Q9. Explain the purpose and usage of the `map()` function in Python.\n",
        "\n",
        "Ans:\n",
        "#Purpose of map() Function in Python\n",
        "\n",
        "The map() function in Python is used to apply a function to each element of an iterable (like a list, tuple, or string) and return a new map object (which is an iterator).\n",
        "It is commonly used to transform data without writing explicit loops.\n",
        "\n",
        "#Syntax:\n",
        "map(function, iterable)\n",
        "- function → A function to apply (can be built-in, user-defined, or a lambda).\n",
        "- iterable → One or more iterable objects (list, tuple, etc.).\n",
        "\n",
        "Usage Examples:\n",
        "\n",
        "1. Using map() with a Built-in Function\n",
        "\n",
        "numbers = [1, 2, 3, 4, 5]\n",
        "\n",
        "squared = list(map(pow, numbers, [2]*len(numbers)))  # power operation\n",
        "\n",
        "print(squared)   # [1, 4, 9, 16, 25]\n",
        "\n",
        "\n",
        "2. Using map() with a User-Defined Function\n",
        "\n",
        "def square(x):\n",
        "\n",
        "    return x * x\n",
        "\n",
        "numbers = [1, 2, 3, 4]\n",
        "\n",
        "result = list(map(square, numbers))\n",
        "\n",
        "print(result)   # [1, 4, 9, 16]\n",
        "\n",
        "\n",
        "3. Using map() with a Lambda Function\n",
        "\n",
        "numbers = [1, 2, 3, 4, 5]\n",
        "\n",
        "result = list(map(lambda x: x*2, numbers))\n",
        "\n",
        "print(result)   # [2, 4, 6, 8, 10]\n",
        "\n",
        "\n",
        "4. Using map() with Multiple Iterables\n",
        "\n",
        "a = [1, 2, 3]\n",
        "\n",
        "b = [4, 5, 6]\n",
        "\n",
        "result = list(map(lambda x, y: x + y, a, b))\n",
        "\n",
        "print(result)   # [5, 7, 9]\n",
        "\n",
        "Key Points\n",
        "\n",
        "- map() returns an iterator, so you usually wrap it in list() or tuple() to see the result.\n",
        "- It is faster and cleaner than using a manual for loop.\n",
        "- Often used with lambda functions for short, one-line transformations."
      ],
      "metadata": {
        "id": "mgPnRtVaYuEp"
      }
    },
    {
      "cell_type": "markdown",
      "source": [
        "Q10. What is the difference between `map()`, `reduce()`, and `filter()` functions in Python?\n",
        "\n",
        "Ans:\n",
        "#Difference between map(), reduce(), and filter()\n",
        "1. map()\n",
        "- Applies a function to each element of an iterable.\n",
        "- A new iterator with transformed values.- Square every number in a list.\n",
        "\n",
        "Example:\n",
        "\n",
        "Applies a function to each element:\n",
        "\n",
        "numbers = [1, 2, 3, 4, 5]\n",
        "\n",
        "squared = list(map(lambda x: x*x, numbers))\n",
        "\n",
        "print(squared)   # [1, 4, 9, 16, 25]\n",
        "2. filter()\n",
        "- Filters elements based on a condition (function returns True/False).\n",
        "- A new iterator with only the elements that satisfy the condition.\n",
        "- Extract even numbers from a list.\n",
        "\n",
        "Example:\n",
        "\n",
        "Filters elements based on condition:\n",
        "\n",
        "numbers = [1, 2, 3, 4, 5, 6]\n",
        "\n",
        "even = list(filter(lambda x: x % 2 == 0, numbers))\n",
        "\n",
        "print(even)   # [2, 4, 6]\n",
        "3. reduce() (from functools)\n",
        "- Repeatedly applies a function to pairs of elements, reducing the iterable to a single value.\n",
        "- Returns a single value\n",
        "- Sum of all numbers in a list.\n",
        "\n",
        "Example\n",
        "\n",
        "Reduces iterable to single value:\n",
        "\n",
        "from functools import reduce\n",
        "\n",
        "numbers = [1, 2, 3, 4, 5]\n",
        "\n",
        "sum_val = reduce(lambda x, y: x + y, numbers)\n",
        "\n",
        "print(sum_val)   # 15"
      ],
      "metadata": {
        "id": "iuuqjbGqaY4h"
      }
    },
    {
      "cell_type": "code",
      "source": [
        "#Q1. Write a Python function that takes a list of numbers as input and returns the sum of all even numbers in the list\n",
        "def sum_even(numbers):\n",
        "    return sum(num for num in numbers if num % 2 == 0)\n",
        "\n",
        "print(sum_even([1, 2, 3, 4, 5, 6]))"
      ],
      "metadata": {
        "colab": {
          "base_uri": "https://localhost:8080/"
        },
        "id": "5B4B9Kxjbup6",
        "outputId": "0207cdd4-0558-4b5e-c94f-3d55661deca1"
      },
      "execution_count": 1,
      "outputs": [
        {
          "output_type": "stream",
          "name": "stdout",
          "text": [
            "12\n"
          ]
        }
      ]
    },
    {
      "cell_type": "code",
      "source": [
        "#Q2. Create a Python function that accepts a string and returns the reverse of that string\n",
        "def reverse_string(s):\n",
        "    return s[::-1]\n",
        "\n",
        "print(reverse_string(\"Akankshya\"))"
      ],
      "metadata": {
        "colab": {
          "base_uri": "https://localhost:8080/"
        },
        "id": "lgPJCSNjb_07",
        "outputId": "431b695b-4ff3-44b1-e327-c3f75094c534"
      },
      "execution_count": 2,
      "outputs": [
        {
          "output_type": "stream",
          "name": "stdout",
          "text": [
            "ayhsknakA\n"
          ]
        }
      ]
    },
    {
      "cell_type": "code",
      "source": [
        "#Q3. Implement a Python function that takes a list of integers and returns a new list containing the squares of each number\n",
        "def squares_list(numbers):\n",
        "    return [num**2 for num in numbers]\n",
        "\n",
        "print(squares_list([1, 2, 3, 4]))"
      ],
      "metadata": {
        "colab": {
          "base_uri": "https://localhost:8080/"
        },
        "id": "d4Wxie67cAAa",
        "outputId": "e24bc333-6a3e-4830-e81d-8e87f344e9ec"
      },
      "execution_count": 3,
      "outputs": [
        {
          "output_type": "stream",
          "name": "stdout",
          "text": [
            "[1, 4, 9, 16]\n"
          ]
        }
      ]
    },
    {
      "cell_type": "code",
      "source": [
        "#Q4. Write a Python function that checks if a given number is prime or not from 1 to 200\n",
        "def is_prime(n):\n",
        "    if n <= 1:\n",
        "        return False\n",
        "    for i in range(2, int(n**0.5) + 1):\n",
        "        if n % i == 0:\n",
        "            return False\n",
        "    return True\n",
        "\n",
        "for num in range(1, 201):\n",
        "    if is_prime(num):\n",
        "        print(num, end=\" \")"
      ],
      "metadata": {
        "colab": {
          "base_uri": "https://localhost:8080/"
        },
        "id": "dHP0MT7NcAHt",
        "outputId": "12467ff8-a4b2-4054-eb1d-11c8c8aa2f4d"
      },
      "execution_count": 4,
      "outputs": [
        {
          "output_type": "stream",
          "name": "stdout",
          "text": [
            "2 3 5 7 11 13 17 19 23 29 31 37 41 43 47 53 59 61 67 71 73 79 83 89 97 101 103 107 109 113 127 131 137 139 149 151 157 163 167 173 179 181 191 193 197 199 "
          ]
        }
      ]
    },
    {
      "cell_type": "code",
      "source": [
        "#Q5. Create an iterator class in Python that generates the Fibonacci sequence up to a specified number of terms\n",
        "class Fibonacci:\n",
        "    def __init__(self, terms):\n",
        "        self.terms = terms\n",
        "        self.a, self.b = 0, 1\n",
        "        self.count = 0\n",
        "\n",
        "    def __iter__(self):\n",
        "        return self\n",
        "\n",
        "    def __next__(self):\n",
        "        if self.count < self.terms:\n",
        "            value = self.a\n",
        "            self.a, self.b = self.b, self.a + self.b\n",
        "            self.count += 1\n",
        "            return value\n",
        "        else:\n",
        "            raise StopIteration\n",
        "\n",
        "for num in Fibonacci(10):\n",
        "    print(num, end=\" \")\n"
      ],
      "metadata": {
        "colab": {
          "base_uri": "https://localhost:8080/"
        },
        "id": "kAXkVldecAR1",
        "outputId": "7da25e7f-9466-4d55-d435-848472af0ef8"
      },
      "execution_count": 5,
      "outputs": [
        {
          "output_type": "stream",
          "name": "stdout",
          "text": [
            "0 1 1 2 3 5 8 13 21 34 "
          ]
        }
      ]
    },
    {
      "cell_type": "code",
      "source": [
        "#Q6. Write a generator function in Python that yields the powers of 2 up to a given exponent\n",
        "def powers_of_two(n):\n",
        "    for i in range(n + 1):\n",
        "        yield 2 ** i\n",
        "\n",
        "for val in powers_of_two(5):\n",
        "    print(val, end=\" \")"
      ],
      "metadata": {
        "colab": {
          "base_uri": "https://localhost:8080/"
        },
        "id": "3Yj1RQ9ycAfZ",
        "outputId": "bde12b8a-bc9a-4c6f-9c18-2abca5ec3b98"
      },
      "execution_count": 6,
      "outputs": [
        {
          "output_type": "stream",
          "name": "stdout",
          "text": [
            "1 2 4 8 16 32 "
          ]
        }
      ]
    },
    {
      "cell_type": "code",
      "source": [
        "#Q7. Implement a generator function that reads a file line by line and yields each line as a string\n",
        "def read_file(filename):\n",
        "    with open(filename, \"r\") as f:\n",
        "        for line in f:\n",
        "            yield line.strip()"
      ],
      "metadata": {
        "id": "em5UMDB2cAnE"
      },
      "execution_count": 7,
      "outputs": []
    },
    {
      "cell_type": "code",
      "source": [
        "#Q8.Use a lambda function in Python to sort a list of tuples based on the second element of each tuple\n",
        "pairs = [(1, 4), (2, 1), (3, 3), (5, 2)]\n",
        "sorted_pairs = sorted(pairs, key=lambda x: x[1])\n",
        "print(sorted_pairs)"
      ],
      "metadata": {
        "colab": {
          "base_uri": "https://localhost:8080/"
        },
        "id": "4iPu6YXIcAwk",
        "outputId": "3ca0f3d8-7b1d-4eca-ee71-0506821cada0"
      },
      "execution_count": 8,
      "outputs": [
        {
          "output_type": "stream",
          "name": "stdout",
          "text": [
            "[(2, 1), (5, 2), (3, 3), (1, 4)]\n"
          ]
        }
      ]
    },
    {
      "cell_type": "code",
      "source": [
        "#Q9.Write a Python program that uses `map()` to convert a list of temperatures from Celsius to Fahrenheit.\n",
        "celsius = [0, 20, 37, 100]\n",
        "fahrenheit = list(map(lambda c: (c * 9/5) + 32, celsius))\n",
        "print(fahrenheit)"
      ],
      "metadata": {
        "colab": {
          "base_uri": "https://localhost:8080/"
        },
        "id": "zJvIG233cA5F",
        "outputId": "7430d53a-6773-4a33-be68-a7a962ab9b8a"
      },
      "execution_count": 9,
      "outputs": [
        {
          "output_type": "stream",
          "name": "stdout",
          "text": [
            "[32.0, 68.0, 98.6, 212.0]\n"
          ]
        }
      ]
    },
    {
      "cell_type": "code",
      "source": [
        "#Q10.Create a Python program that uses `filter()` to remove all the vowels from a given string\n",
        "def remove_vowels(s):\n",
        "    vowels = \"aeiouAEIOU\"\n",
        "    return \"\".join(filter(lambda ch: ch not in vowels, s))\n",
        "\n",
        "print(remove_vowels(\"Akankshya\"))"
      ],
      "metadata": {
        "colab": {
          "base_uri": "https://localhost:8080/"
        },
        "id": "Ic0zbuRKcBEs",
        "outputId": "c9fca1ab-090c-4936-e8cb-8d8c86fb8d43"
      },
      "execution_count": 10,
      "outputs": [
        {
          "output_type": "stream",
          "name": "stdout",
          "text": [
            "knkshy\n"
          ]
        }
      ]
    },
    {
      "cell_type": "code",
      "source": [
        "#Q11\n",
        "orders = [\n",
        "    [34587, \"Learning Python, Mark Lutz\", 4, 40.95],\n",
        "    [98762, \"Programming Python, Mark Lutz\", 5, 56.80],\n",
        "    [77226, \"Head First Python, Paul Barry\", 3, 32.95],\n",
        "    [88112, \"Einführung in Python3, Bernd Klein\", 3, 24.99]\n",
        "]\n",
        "\n",
        "# Use map() and lambda\n",
        "result = list(map(lambda order:\n",
        "                  (order[0], order[2] * order[3] if order[2] * order[3] >= 100\n",
        "                   else order[2] * order[3] + 10), orders))\n",
        "\n",
        "print(result)\n"
      ],
      "metadata": {
        "colab": {
          "base_uri": "https://localhost:8080/"
        },
        "id": "WXUwlMkJfNVo",
        "outputId": "11eb3c72-b961-4e28-b4a0-3ffe5530847a"
      },
      "execution_count": 11,
      "outputs": [
        {
          "output_type": "stream",
          "name": "stdout",
          "text": [
            "[(34587, 163.8), (98762, 284.0), (77226, 108.85000000000001), (88112, 84.97)]\n"
          ]
        }
      ]
    }
  ]
}